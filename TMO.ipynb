{
 "cells": [
  {
   "cell_type": "code",
   "execution_count": 7,
   "metadata": {},
   "outputs": [
    {
     "name": "stdout",
     "output_type": "stream",
     "text": [
      "0.5058924897104677\n"
     ]
    }
   ],
   "source": [
    "import math\n",
    "import random\n",
    "import numpy as np\n",
    "\n",
    "lamb = 3\n",
    "muu = 1\n",
    "\n",
    "def lam (): \n",
    "    return -math.log(random.random())/lamb # Моделируем время прихода следующей заявки\n",
    "\n",
    "def mu():\n",
    "    return -math.log(random.random())/muu # Моделируем время обработки заявки\n",
    "\n",
    "\n",
    "def model():\n",
    "    \n",
    "    t0 = 0 #время 0 \n",
    "    channel = np.zeros(4) #зануляем каналы\n",
    "    queque = [] #никого нет в очереди\n",
    "    n = 0\n",
    "    time = 0\n",
    "    while t0 < 1000: \n",
    "        \n",
    "        t0 +=  lam() #моделируем приход заявки\n",
    "        \n",
    "        while np.amin(channel) < t0 and len(queque) > 0: # Пока заявки не приходили приборы успели что-то обработать\n",
    "    \n",
    "            ch = np.argmin(channel) #найдем номер свободного канала\n",
    "            n += 1\n",
    "            time += channel[ch] - queque.pop(0)  #заявка обработалась, удалим ее\n",
    "            channel[ch] += mu() #канал обрабатывает заявку\n",
    "                \n",
    "        if np.amin(channel) < t0: #\n",
    "            n += 1 #если есть свободный канал, то обслуживаем заявку\n",
    "            channel[np.argmin(channel)] = t0 + mu() #новое время обработки\n",
    "        else:\n",
    "            queque.append(t0) #нет свободных-добавим в очередь\n",
    "    \n",
    "    for a in queque: #неотработанные заявки \n",
    "        time += 1000 - a\n",
    "        n += 1\n",
    "    \n",
    "    return time / n\n",
    "    \n",
    "    \n",
    "    \n",
    "def main(): # Моделируем num_tests траекторий\n",
    "    sum = 0\n",
    "    i = 0\n",
    "    while i < 1000:\n",
    "        sum += model()#складываем все среднее время\n",
    "        i+=1\n",
    "    return sum/1000 #делим на количество траекторий\n",
    "    \n",
    "print(main())"
   ]
  },
  {
   "cell_type": "code",
   "execution_count": null,
   "metadata": {},
   "outputs": [],
   "source": []
  }
 ],
 "metadata": {
  "kernelspec": {
   "display_name": "Python 3",
   "language": "python",
   "name": "python3"
  },
  "language_info": {
   "codemirror_mode": {
    "name": "ipython",
    "version": 3
   },
   "file_extension": ".py",
   "mimetype": "text/x-python",
   "name": "python",
   "nbconvert_exporter": "python",
   "pygments_lexer": "ipython3",
   "version": "3.6.7"
  }
 },
 "nbformat": 4,
 "nbformat_minor": 2
}
